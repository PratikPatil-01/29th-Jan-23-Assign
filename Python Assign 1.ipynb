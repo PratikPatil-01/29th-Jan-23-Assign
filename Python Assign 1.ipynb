{
 "cells": [
  {
   "cell_type": "markdown",
   "id": "d4b59602-05c2-4b52-bf85-329d4de85ec0",
   "metadata": {},
   "source": [
    "1) \n",
    "Guido Van Rossum"
   ]
  },
  {
   "cell_type": "code",
   "execution_count": null,
   "id": "e43fac9d-22ea-48fa-8c28-286808c600e1",
   "metadata": {},
   "outputs": [],
   "source": []
  },
  {
   "cell_type": "markdown",
   "id": "c84a1d9b-79b0-47a3-bf2a-f1516d3eab13",
   "metadata": {},
   "source": [
    "2) \n",
    "Python is a multi-paradigm programming language. Object-oriented programming and structured programming are fully supported, and many of their features support functional programming and aspect-oriented programming."
   ]
  },
  {
   "cell_type": "code",
   "execution_count": null,
   "id": "7cd16c2b-4abb-40ac-926e-8688eef82826",
   "metadata": {},
   "outputs": [],
   "source": []
  },
  {
   "cell_type": "markdown",
   "id": "606c7169-bf05-401d-ac7e-8b770654d891",
   "metadata": {},
   "source": [
    "3) \n",
    "Yes, it is."
   ]
  },
  {
   "cell_type": "code",
   "execution_count": null,
   "id": "2b16e222-a73a-4f0a-9aff-3ae90d5c8422",
   "metadata": {},
   "outputs": [],
   "source": []
  },
  {
   "cell_type": "markdown",
   "id": "bbef2db2-f1b9-4ea9-b8b4-b76d8d258f14",
   "metadata": {},
   "source": [
    "4) \n",
    "The correct extension of python file is .py, .pyi"
   ]
  },
  {
   "cell_type": "code",
   "execution_count": null,
   "id": "9fb351f7-2279-4f3a-a3cc-c85afe9b7d59",
   "metadata": {},
   "outputs": [],
   "source": []
  },
  {
   "cell_type": "markdown",
   "id": "2a0254f9-755f-4766-8d86-662247c26ebd",
   "metadata": {},
   "source": [
    "5) \n",
    "Python is an interpreted language."
   ]
  },
  {
   "cell_type": "code",
   "execution_count": null,
   "id": "6a74de66-3abc-4a38-b470-22ca4ddeaaa8",
   "metadata": {},
   "outputs": [],
   "source": []
  },
  {
   "cell_type": "markdown",
   "id": "a969b24b-00bc-4c13-b575-7b3bb663d7a5",
   "metadata": {},
   "source": [
    "6) \n",
    "A block is a piece of Python program text that is executed as a unit. The following are blocks: a module, a function body, and a class definition.\n",
    "\n",
    "In Python, you can define blocks of code using various structures. Some commonly used blocks of code include:\n",
    "1. Function Definition\n",
    "2. Conditional Statements\n",
    "3. Looping Constructs\n",
    "4. Exception Handling\n",
    "5. Class Definitions\n",
    "\n",
    "These are some fundamental blocks of code in Python that are used to structure and organize your program's logic. Each block has its specific purpose and syntax for defining it."
   ]
  },
  {
   "cell_type": "code",
   "execution_count": null,
   "id": "a45ba469-44c2-4d68-ab9a-28c206beaa06",
   "metadata": {},
   "outputs": [],
   "source": []
  },
  {
   "cell_type": "markdown",
   "id": "1317059d-55b0-4bfb-a287-289b5b228747",
   "metadata": {},
   "source": [
    "7) \n",
    "\"#\" is the character used to define single line comment in python."
   ]
  },
  {
   "cell_type": "code",
   "execution_count": null,
   "id": "c219767f-dd2b-4b87-94b1-851939a67d9a",
   "metadata": {},
   "outputs": [],
   "source": []
  },
  {
   "cell_type": "markdown",
   "id": "9a23a1f0-5a39-44fe-8e6d-33e079e2352b",
   "metadata": {},
   "source": [
    "8) \n",
    "\"python--version\" can help us to find the version of python."
   ]
  },
  {
   "cell_type": "code",
   "execution_count": null,
   "id": "7dafd5f1-7250-4759-ac9d-f9d95aa3d6ad",
   "metadata": {},
   "outputs": [],
   "source": []
  },
  {
   "cell_type": "markdown",
   "id": "d6d3f775-2392-44c2-9c33-b99e8cb00d63",
   "metadata": {},
   "source": [
    "9) \n",
    "Lambda"
   ]
  },
  {
   "cell_type": "code",
   "execution_count": null,
   "id": "93a1a68c-0fcc-46f3-93f1-d0e76e054a09",
   "metadata": {},
   "outputs": [],
   "source": []
  },
  {
   "cell_type": "markdown",
   "id": "0b6230b2-91a6-439f-9fc1-500cb1bcfaf9",
   "metadata": {},
   "source": [
    "10) \n",
    "pip stands for \"preferred installer program\"."
   ]
  },
  {
   "cell_type": "code",
   "execution_count": null,
   "id": "032ae14f-8a08-4873-9794-9ced6905f2aa",
   "metadata": {},
   "outputs": [],
   "source": []
  },
  {
   "cell_type": "markdown",
   "id": "ed95426f-d21d-448b-80f7-c246fe47f878",
   "metadata": {},
   "source": [
    "11) \n",
    "\"print\",\"return\",\"int\",\"char\" are few of the built in functions."
   ]
  },
  {
   "cell_type": "code",
   "execution_count": null,
   "id": "0b3b0bb5-dd10-4f30-ab9d-532822e92cf3",
   "metadata": {},
   "outputs": [],
   "source": []
  },
  {
   "cell_type": "markdown",
   "id": "2ccee1d2-2cc0-4eb2-888f-38b5d565220d",
   "metadata": {},
   "source": [
    "12) \n",
    "Maximum possible length of identifiers in python is 79 characters."
   ]
  },
  {
   "cell_type": "code",
   "execution_count": null,
   "id": "7dd146c8-971b-4aa2-b81f-eea15bf84573",
   "metadata": {},
   "outputs": [],
   "source": []
  },
  {
   "cell_type": "markdown",
   "id": "f320ce63-f6c7-4dc1-b9b0-8db9c9cddbe1",
   "metadata": {},
   "source": [
    "13) \n",
    "\n",
    "a) It is freely available.\n",
    "\n",
    "b) It is an open source.\n",
    "\n",
    "c) It also has large global community for web development and stock trading, etc."
   ]
  },
  {
   "cell_type": "code",
   "execution_count": null,
   "id": "0a02c017-b1df-409e-85ab-56baf5f808b9",
   "metadata": {},
   "outputs": [],
   "source": []
  },
  {
   "cell_type": "markdown",
   "id": "8e01081f-6a63-464a-ba77-79f82fa0249e",
   "metadata": {},
   "source": [
    "14) \n",
    "Memory management in Python involves a private heap containing all Python objects and data structures. The management of this private heap is ensured internally by the Python memory manager."
   ]
  },
  {
   "cell_type": "code",
   "execution_count": null,
   "id": "a1f23e0b-d421-49d5-891c-dd137c516fed",
   "metadata": {},
   "outputs": [],
   "source": []
  },
  {
   "cell_type": "markdown",
   "id": "a0895941-04c5-4290-a39a-0cc2ac25aefc",
   "metadata": {},
   "source": [
    "15) \n",
    "Right-clicking This PC and going to Properties.\n",
    "Clicking on the Advanced system settings in the menu on the left.\n",
    "Clicking on the Environment Variables button on the bottom right.\n",
    "In the System variables section, selecting the Path variable and clicking on Edit."
   ]
  },
  {
   "cell_type": "code",
   "execution_count": null,
   "id": "9b168207-9df4-44a1-9bb6-bfc4cebc412c",
   "metadata": {},
   "outputs": [],
   "source": []
  },
  {
   "cell_type": "markdown",
   "id": "3da508b5-2ea7-4b9d-9723-ef094a5bfb92",
   "metadata": {},
   "source": [
    "16) \n",
    "Yes."
   ]
  }
 ],
 "metadata": {
  "kernelspec": {
   "display_name": "Python 3 (ipykernel)",
   "language": "python",
   "name": "python3"
  },
  "language_info": {
   "codemirror_mode": {
    "name": "ipython",
    "version": 3
   },
   "file_extension": ".py",
   "mimetype": "text/x-python",
   "name": "python",
   "nbconvert_exporter": "python",
   "pygments_lexer": "ipython3",
   "version": "3.10.8"
  }
 },
 "nbformat": 4,
 "nbformat_minor": 5
}
