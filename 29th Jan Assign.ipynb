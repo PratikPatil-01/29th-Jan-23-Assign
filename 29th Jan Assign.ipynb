{
 "cells": [
  {
   "cell_type": "markdown",
   "id": "d4b59602-05c2-4b52-bf85-329d4de85ec0",
   "metadata": {},
   "source": [
    "1) Guido Van Rossum"
   ]
  },
  {
   "cell_type": "markdown",
   "id": "c84a1d9b-79b0-47a3-bf2a-f1516d3eab13",
   "metadata": {},
   "source": [
    "2. Python is a multi-paradigm programming language. Object-oriented programming and structured programming are fully supported, and many of their features support functional programming and aspect-oriented programming."
   ]
  },
  {
   "cell_type": "markdown",
   "id": "606c7169-bf05-401d-ac7e-8b770654d891",
   "metadata": {},
   "source": [
    "3. Yes, it is."
   ]
  },
  {
   "cell_type": "markdown",
   "id": "bbef2db2-f1b9-4ea9-b8b4-b76d8d258f14",
   "metadata": {},
   "source": [
    "4. The correct extension of python file is .py, .pyi"
   ]
  },
  {
   "cell_type": "markdown",
   "id": "2a0254f9-755f-4766-8d86-662247c26ebd",
   "metadata": {},
   "source": [
    "5. Python is an interpreted language."
   ]
  },
  {
   "cell_type": "markdown",
   "id": "1317059d-55b0-4bfb-a287-289b5b228747",
   "metadata": {},
   "source": [
    "7. \"#\" is the character used to define single line comment in python.\n"
   ]
  },
  {
   "cell_type": "markdown",
   "id": "0b6230b2-91a6-439f-9fc1-500cb1bcfaf9",
   "metadata": {},
   "source": [
    "10. pip stands for \"preferred installer program\"."
   ]
  },
  {
   "cell_type": "markdown",
   "id": "d6d3f775-2392-44c2-9c33-b99e8cb00d63",
   "metadata": {},
   "source": [
    "9. lambda"
   ]
  },
  {
   "cell_type": "markdown",
   "id": "9a23a1f0-5a39-44fe-8e6d-33e079e2352b",
   "metadata": {},
   "source": [
    "8. \"python--version\" can help us to find the version of python."
   ]
  },
  {
   "cell_type": "markdown",
   "id": "ed95426f-d21d-448b-80f7-c246fe47f878",
   "metadata": {},
   "source": [
    "11. \"print\",\"return\",\"int\",\"char\" are few of the built in functions."
   ]
  },
  {
   "cell_type": "markdown",
   "id": "f320ce63-f6c7-4dc1-b9b0-8db9c9cddbe1",
   "metadata": {},
   "source": [
    "13. 1) It is freely available. 2) It is an open source. 3) It also has large global community for web development and stock trading,etc.\n",
    "    "
   ]
  },
  {
   "cell_type": "markdown",
   "id": "2ccee1d2-2cc0-4eb2-888f-38b5d565220d",
   "metadata": {},
   "source": [
    "12. Maximum possible length of identifiers in python is 79 characters."
   ]
  },
  {
   "cell_type": "markdown",
   "id": "8e01081f-6a63-464a-ba77-79f82fa0249e",
   "metadata": {},
   "source": [
    "14.Memory management in Python involves a private heap containing all Python objects and data structures. The management of this private heap is ensured internally by the Python memory manager."
   ]
  },
  {
   "cell_type": "markdown",
   "id": "a0895941-04c5-4290-a39a-0cc2ac25aefc",
   "metadata": {},
   "source": [
    "15.Right-clicking This PC and going to Properties.\n",
    "Clicking on the Advanced system settings in the menu on the left.\n",
    "Clicking on the Environment Variables button o​n the bottom right.\n",
    "In the System variables section, selecting the Path variable and clicking on Edit."
   ]
  },
  {
   "cell_type": "markdown",
   "id": "3da508b5-2ea7-4b9d-9723-ef094a5bfb92",
   "metadata": {},
   "source": [
    "16. Yes."
   ]
  },
  {
   "cell_type": "markdown",
   "id": "c64b513f-6bfc-4ae4-88f7-02bd5b7b76be",
   "metadata": {},
   "source": [
    "6. A block is a piece of Python program text that is executed as a unit. The following are blocks: a module, a function body, and a class definition."
   ]
  }
 ],
 "metadata": {
  "kernelspec": {
   "display_name": "Python 3 (ipykernel)",
   "language": "python",
   "name": "python3"
  },
  "language_info": {
   "codemirror_mode": {
    "name": "ipython",
    "version": 3
   },
   "file_extension": ".py",
   "mimetype": "text/x-python",
   "name": "python",
   "nbconvert_exporter": "python",
   "pygments_lexer": "ipython3",
   "version": "3.10.8"
  }
 },
 "nbformat": 4,
 "nbformat_minor": 5
}
